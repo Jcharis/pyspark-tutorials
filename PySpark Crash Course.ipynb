{
 "cells": [
  {
   "cell_type": "code",
   "execution_count": 5,
   "id": "editorial-printer",
   "metadata": {},
   "outputs": [],
   "source": [
    "# Load Pyspark Pkgs\n",
    "import pyspark"
   ]
  },
  {
   "cell_type": "code",
   "execution_count": 7,
   "id": "dress-regard",
   "metadata": {},
   "outputs": [
    {
     "data": {
      "text/plain": [
       "['Accumulator',\n",
       " 'AccumulatorParam',\n",
       " 'BarrierTaskContext',\n",
       " 'BarrierTaskInfo',\n",
       " 'BasicProfiler',\n",
       " 'Broadcast',\n",
       " 'HiveContext',\n",
       " 'MarshalSerializer',\n",
       " 'PickleSerializer',\n",
       " 'Profiler',\n",
       " 'RDD',\n",
       " 'RDDBarrier',\n",
       " 'Row',\n",
       " 'SQLContext',\n",
       " 'SparkConf',\n",
       " 'SparkContext',\n",
       " 'SparkFiles',\n",
       " 'SparkJobInfo',\n",
       " 'SparkStageInfo',\n",
       " 'StatusTracker',\n",
       " 'StorageLevel',\n",
       " 'TaskContext',\n",
       " '_NoValue',\n",
       " '__all__',\n",
       " '__builtins__',\n",
       " '__cached__',\n",
       " '__doc__',\n",
       " '__file__',\n",
       " '__loader__',\n",
       " '__name__',\n",
       " '__package__',\n",
       " '__path__',\n",
       " '__spec__',\n",
       " '__version__',\n",
       " '_globals',\n",
       " 'accumulators',\n",
       " 'broadcast',\n",
       " 'cloudpickle',\n",
       " 'conf',\n",
       " 'context',\n",
       " 'copy_func',\n",
       " 'files',\n",
       " 'find_spark_home',\n",
       " 'heapq3',\n",
       " 'java_gateway',\n",
       " 'join',\n",
       " 'keyword_only',\n",
       " 'profiler',\n",
       " 'rdd',\n",
       " 'rddsampler',\n",
       " 'resource',\n",
       " 'resultiterable',\n",
       " 'serializers',\n",
       " 'shuffle',\n",
       " 'since',\n",
       " 'sql',\n",
       " 'statcounter',\n",
       " 'status',\n",
       " 'storagelevel',\n",
       " 'taskcontext',\n",
       " 'traceback_utils',\n",
       " 'types',\n",
       " 'util',\n",
       " 'version',\n",
       " 'wraps']"
      ]
     },
     "execution_count": 7,
     "metadata": {},
     "output_type": "execute_result"
    }
   ],
   "source": [
    "# Methods/Attrib\n",
    "dir(pyspark)"
   ]
  },
  {
   "cell_type": "markdown",
   "id": "awful-separation",
   "metadata": {},
   "source": [
    "#### Working with DataFrames in PySpark\n",
    "+ Read DataSet(CSV)\n",
    "+ Create DataFrame\n",
    "\n",
    "###### Tips\n",
    "+ SparkSession\n",
    "+ SparkContext :sc\n",
    "+ SqlContext"
   ]
  },
  {
   "cell_type": "code",
   "execution_count": 8,
   "id": "chief-combination",
   "metadata": {},
   "outputs": [],
   "source": [
    "# Create A SparkSession\n",
    "from pyspark.sql import SparkSession\n",
    "spark = SparkSession.builder.appName(\"PySparkTut\").getOrCreate()"
   ]
  },
  {
   "cell_type": "code",
   "execution_count": 9,
   "id": "nonprofit-paraguay",
   "metadata": {},
   "outputs": [
    {
     "name": "stdout",
     "output_type": "stream",
     "text": [
      "'PySpark Crash Course.ipynb'   work\r\n"
     ]
    }
   ],
   "source": [
    "!ls"
   ]
  },
  {
   "cell_type": "code",
   "execution_count": 10,
   "id": "tested-blues",
   "metadata": {},
   "outputs": [
    {
     "name": "stdout",
     "output_type": "stream",
     "text": [
      "--2021-01-27 21:01:43--  https://raw.githubusercontent.com/Jcharis/common_ml_datasets_explorer_app/master/datasets/diamonds.csv\n",
      "Resolving raw.githubusercontent.com (raw.githubusercontent.com)... 151.101.112.133\n",
      "Connecting to raw.githubusercontent.com (raw.githubusercontent.com)|151.101.112.133|:443... connected.\n",
      "HTTP request sent, awaiting response... 200 OK\n",
      "Length: 2772143 (2.6M) [text/plain]\n",
      "Saving to: ‘diamonds.csv’\n",
      "\n",
      "diamonds.csv        100%[===================>]   2.64M  3.81MB/s    in 0.7s    \n",
      "\n",
      "2021-01-27 21:01:44 (3.81 MB/s) - ‘diamonds.csv’ saved [2772143/2772143]\n",
      "\n"
     ]
    }
   ],
   "source": [
    "!wget https://raw.githubusercontent.com/Jcharis/common_ml_datasets_explorer_app/master/datasets/diamonds.csv"
   ]
  },
  {
   "cell_type": "code",
   "execution_count": 11,
   "id": "documented-laser",
   "metadata": {},
   "outputs": [
    {
     "name": "stdout",
     "output_type": "stream",
     "text": [
      " diamonds.csv  'PySpark Crash Course.ipynb'   work\r\n"
     ]
    }
   ],
   "source": [
    "!ls"
   ]
  },
  {
   "cell_type": "code",
   "execution_count": 12,
   "id": "listed-adolescent",
   "metadata": {},
   "outputs": [],
   "source": [
    "# Read A DataSet without header\n",
    "df = spark.read.csv('diamonds.csv')"
   ]
  },
  {
   "cell_type": "code",
   "execution_count": 13,
   "id": "centered-naples",
   "metadata": {},
   "outputs": [
    {
     "name": "stdout",
     "output_type": "stream",
     "text": [
      "+-----+---------+-----+-------+-----+-----+-----+----+----+----+\n",
      "|  _c0|      _c1|  _c2|    _c3|  _c4|  _c5|  _c6| _c7| _c8| _c9|\n",
      "+-----+---------+-----+-------+-----+-----+-----+----+----+----+\n",
      "|carat|      cut|color|clarity|depth|table|price|   x|   y|   z|\n",
      "| 0.23|    Ideal|    E|    SI2| 61.5|   55|  326|3.95|3.98|2.43|\n",
      "| 0.21|  Premium|    E|    SI1| 59.8|   61|  326|3.89|3.84|2.31|\n",
      "| 0.23|     Good|    E|    VS1| 56.9|   65|  327|4.05|4.07|2.31|\n",
      "| 0.29|  Premium|    I|    VS2| 62.4|   58|  334| 4.2|4.23|2.63|\n",
      "| 0.31|     Good|    J|    SI2| 63.3|   58|  335|4.34|4.35|2.75|\n",
      "| 0.24|Very Good|    J|   VVS2| 62.8|   57|  336|3.94|3.96|2.48|\n",
      "| 0.24|Very Good|    I|   VVS1| 62.3|   57|  336|3.95|3.98|2.47|\n",
      "| 0.26|Very Good|    H|    SI1| 61.9|   55|  337|4.07|4.11|2.53|\n",
      "| 0.22|     Fair|    E|    VS2| 65.1|   61|  337|3.87|3.78|2.49|\n",
      "| 0.23|Very Good|    H|    VS1| 59.4|   61|  338|   4|4.05|2.39|\n",
      "|  0.3|     Good|    J|    SI1|   64|   55|  339|4.25|4.28|2.73|\n",
      "| 0.23|    Ideal|    J|    VS1| 62.8|   56|  340|3.93| 3.9|2.46|\n",
      "| 0.22|  Premium|    F|    SI1| 60.4|   61|  342|3.88|3.84|2.33|\n",
      "| 0.31|    Ideal|    J|    SI2| 62.2|   54|  344|4.35|4.37|2.71|\n",
      "|  0.2|  Premium|    E|    SI2| 60.2|   62|  345|3.79|3.75|2.27|\n",
      "| 0.32|  Premium|    E|     I1| 60.9|   58|  345|4.38|4.42|2.68|\n",
      "|  0.3|    Ideal|    I|    SI2|   62|   54|  348|4.31|4.34|2.68|\n",
      "|  0.3|     Good|    J|    SI1| 63.4|   54|  351|4.23|4.29| 2.7|\n",
      "|  0.3|     Good|    J|    SI1| 63.8|   56|  351|4.23|4.26|2.71|\n",
      "+-----+---------+-----+-------+-----+-----+-----+----+----+----+\n",
      "only showing top 20 rows\n",
      "\n"
     ]
    }
   ],
   "source": [
    "# Preview dataset\n",
    "df.show()"
   ]
  },
  {
   "cell_type": "code",
   "execution_count": 62,
   "id": "acquired-vault",
   "metadata": {},
   "outputs": [],
   "source": [
    "# Read A DataSet with header/column names\n",
    "df = spark.read.csv('diamonds.csv',header=True)"
   ]
  },
  {
   "cell_type": "code",
   "execution_count": 15,
   "id": "featured-repeat",
   "metadata": {},
   "outputs": [
    {
     "name": "stdout",
     "output_type": "stream",
     "text": [
      "+-----+---------+-----+-------+-----+-----+-----+----+----+----+\n",
      "|carat|      cut|color|clarity|depth|table|price|   x|   y|   z|\n",
      "+-----+---------+-----+-------+-----+-----+-----+----+----+----+\n",
      "| 0.23|    Ideal|    E|    SI2| 61.5|   55|  326|3.95|3.98|2.43|\n",
      "| 0.21|  Premium|    E|    SI1| 59.8|   61|  326|3.89|3.84|2.31|\n",
      "| 0.23|     Good|    E|    VS1| 56.9|   65|  327|4.05|4.07|2.31|\n",
      "| 0.29|  Premium|    I|    VS2| 62.4|   58|  334| 4.2|4.23|2.63|\n",
      "| 0.31|     Good|    J|    SI2| 63.3|   58|  335|4.34|4.35|2.75|\n",
      "| 0.24|Very Good|    J|   VVS2| 62.8|   57|  336|3.94|3.96|2.48|\n",
      "| 0.24|Very Good|    I|   VVS1| 62.3|   57|  336|3.95|3.98|2.47|\n",
      "| 0.26|Very Good|    H|    SI1| 61.9|   55|  337|4.07|4.11|2.53|\n",
      "| 0.22|     Fair|    E|    VS2| 65.1|   61|  337|3.87|3.78|2.49|\n",
      "| 0.23|Very Good|    H|    VS1| 59.4|   61|  338|   4|4.05|2.39|\n",
      "|  0.3|     Good|    J|    SI1|   64|   55|  339|4.25|4.28|2.73|\n",
      "| 0.23|    Ideal|    J|    VS1| 62.8|   56|  340|3.93| 3.9|2.46|\n",
      "| 0.22|  Premium|    F|    SI1| 60.4|   61|  342|3.88|3.84|2.33|\n",
      "| 0.31|    Ideal|    J|    SI2| 62.2|   54|  344|4.35|4.37|2.71|\n",
      "|  0.2|  Premium|    E|    SI2| 60.2|   62|  345|3.79|3.75|2.27|\n",
      "| 0.32|  Premium|    E|     I1| 60.9|   58|  345|4.38|4.42|2.68|\n",
      "|  0.3|    Ideal|    I|    SI2|   62|   54|  348|4.31|4.34|2.68|\n",
      "|  0.3|     Good|    J|    SI1| 63.4|   54|  351|4.23|4.29| 2.7|\n",
      "|  0.3|     Good|    J|    SI1| 63.8|   56|  351|4.23|4.26|2.71|\n",
      "|  0.3|Very Good|    J|    SI1| 62.7|   59|  351|4.21|4.27|2.66|\n",
      "+-----+---------+-----+-------+-----+-----+-----+----+----+----+\n",
      "only showing top 20 rows\n",
      "\n"
     ]
    }
   ],
   "source": [
    "df.show()"
   ]
  },
  {
   "cell_type": "code",
   "execution_count": 16,
   "id": "scenic-simpson",
   "metadata": {},
   "outputs": [
    {
     "data": {
      "text/plain": [
       "['carat', 'cut', 'color', 'clarity', 'depth', 'table', 'price', 'x', 'y', 'z']"
      ]
     },
     "execution_count": 16,
     "metadata": {},
     "output_type": "execute_result"
    }
   ],
   "source": [
    "# Columns\n",
    "df.columns"
   ]
  },
  {
   "cell_type": "code",
   "execution_count": 20,
   "id": "upset-celebration",
   "metadata": {},
   "outputs": [
    {
     "data": {
      "text/plain": [
       "(53940, 10)"
      ]
     },
     "execution_count": 20,
     "metadata": {},
     "output_type": "execute_result"
    }
   ],
   "source": [
    "# Shape (rows + columns)\n",
    "(df.count() ,len(df.columns))"
   ]
  },
  {
   "cell_type": "code",
   "execution_count": 21,
   "id": "federal-balloon",
   "metadata": {},
   "outputs": [
    {
     "data": {
      "text/plain": [
       "10"
      ]
     },
     "execution_count": 21,
     "metadata": {},
     "output_type": "execute_result"
    }
   ],
   "source": [
    "# Number of columns\n",
    "len(df.columns)"
   ]
  },
  {
   "cell_type": "code",
   "execution_count": 22,
   "id": "synthetic-piece",
   "metadata": {},
   "outputs": [
    {
     "data": {
      "text/plain": [
       "53940"
      ]
     },
     "execution_count": 22,
     "metadata": {},
     "output_type": "execute_result"
    }
   ],
   "source": [
    "# Number of rows\n",
    "df.count()"
   ]
  },
  {
   "cell_type": "code",
   "execution_count": 24,
   "id": "first-alexander",
   "metadata": {},
   "outputs": [
    {
     "name": "stdout",
     "output_type": "stream",
     "text": [
      "+-------+------------------+---------+-----+-------+------------------+------------------+-----------------+------------------+------------------+------------------+\n",
      "|summary|             carat|      cut|color|clarity|             depth|             table|            price|                 x|                 y|                 z|\n",
      "+-------+------------------+---------+-----+-------+------------------+------------------+-----------------+------------------+------------------+------------------+\n",
      "|  count|             53940|    53940|53940|  53940|             53940|             53940|            53940|             53940|             53940|             53940|\n",
      "|   mean|0.7979397478679852|     null| null|   null| 61.74940489432624| 57.45718390804603|3932.799721913237| 5.731157211716609| 5.734525954764462|3.5387337782723316|\n",
      "| stddev|0.4740112444054196|     null| null|   null|1.4326213188336525|2.2344905628213247|3989.439738146397|1.1217607467924915|1.1421346741235616|0.7056988469499883|\n",
      "|    min|               0.2|     Fair|    D|     I1|                43|                43|             1000|                 0|                 0|                 0|\n",
      "|    max|              5.01|Very Good|    J|   VVS2|                79|                95|             9999|              9.86|              9.94|              8.06|\n",
      "+-------+------------------+---------+-----+-------+------------------+------------------+-----------------+------------------+------------------+------------------+\n",
      "\n"
     ]
    }
   ],
   "source": [
    "# Descriptive Analysis\n",
    "df.describe().show()"
   ]
  },
  {
   "cell_type": "code",
   "execution_count": 25,
   "id": "recorded-person",
   "metadata": {},
   "outputs": [
    {
     "name": "stdout",
     "output_type": "stream",
     "text": [
      "+-------+------------------+\n",
      "|summary|             carat|\n",
      "+-------+------------------+\n",
      "|  count|             53940|\n",
      "|   mean|0.7979397478679852|\n",
      "| stddev|0.4740112444054196|\n",
      "|    min|               0.2|\n",
      "|    max|              5.01|\n",
      "+-------+------------------+\n",
      "\n"
     ]
    }
   ],
   "source": [
    "# Pick a column & Get summary/describe a selected column\n",
    "df.describe('carat').show()"
   ]
  },
  {
   "cell_type": "code",
   "execution_count": 26,
   "id": "united-innocent",
   "metadata": {},
   "outputs": [
    {
     "data": {
      "text/plain": [
       "Row(carat='0.23', cut='Ideal', color='E', clarity='SI2', depth='61.5', table='55', price='326', x='3.95', y='3.98', z='2.43')"
      ]
     },
     "execution_count": 26,
     "metadata": {},
     "output_type": "execute_result"
    }
   ],
   "source": [
    "# Preview the First Row\n",
    "df.first()"
   ]
  },
  {
   "cell_type": "code",
   "execution_count": 31,
   "id": "fitted-survey",
   "metadata": {},
   "outputs": [
    {
     "data": {
      "text/plain": [
       "[Row(carat='0.23', cut='Ideal', color='E', clarity='SI2', depth='61.5', table='55', price='326', x='3.95', y='3.98', z='2.43'),\n",
       " Row(carat='0.21', cut='Premium', color='E', clarity='SI1', depth='59.8', table='61', price='326', x='3.89', y='3.84', z='2.31'),\n",
       " Row(carat='0.23', cut='Good', color='E', clarity='VS1', depth='56.9', table='65', price='327', x='4.05', y='4.07', z='2.31'),\n",
       " Row(carat='0.29', cut='Premium', color='I', clarity='VS2', depth='62.4', table='58', price='334', x='4.2', y='4.23', z='2.63'),\n",
       " Row(carat='0.31', cut='Good', color='J', clarity='SI2', depth='63.3', table='58', price='335', x='4.34', y='4.35', z='2.75'),\n",
       " Row(carat='0.24', cut='Very Good', color='J', clarity='VVS2', depth='62.8', table='57', price='336', x='3.94', y='3.96', z='2.48'),\n",
       " Row(carat='0.24', cut='Very Good', color='I', clarity='VVS1', depth='62.3', table='57', price='336', x='3.95', y='3.98', z='2.47'),\n",
       " Row(carat='0.26', cut='Very Good', color='H', clarity='SI1', depth='61.9', table='55', price='337', x='4.07', y='4.11', z='2.53'),\n",
       " Row(carat='0.22', cut='Fair', color='E', clarity='VS2', depth='65.1', table='61', price='337', x='3.87', y='3.78', z='2.49'),\n",
       " Row(carat='0.23', cut='Very Good', color='H', clarity='VS1', depth='59.4', table='61', price='338', x='4', y='4.05', z='2.39')]"
      ]
     },
     "execution_count": 31,
     "metadata": {},
     "output_type": "execute_result"
    }
   ],
   "source": [
    "# Preview the first 10 rows\n",
    "# Like a list\n",
    "df.head(10)"
   ]
  },
  {
   "cell_type": "code",
   "execution_count": 32,
   "id": "functioning-gibson",
   "metadata": {},
   "outputs": [
    {
     "name": "stdout",
     "output_type": "stream",
     "text": [
      "+-----+---------+-----+-------+-----+-----+-----+----+----+----+\n",
      "|carat|      cut|color|clarity|depth|table|price|   x|   y|   z|\n",
      "+-----+---------+-----+-------+-----+-----+-----+----+----+----+\n",
      "| 0.23|    Ideal|    E|    SI2| 61.5|   55|  326|3.95|3.98|2.43|\n",
      "| 0.21|  Premium|    E|    SI1| 59.8|   61|  326|3.89|3.84|2.31|\n",
      "| 0.23|     Good|    E|    VS1| 56.9|   65|  327|4.05|4.07|2.31|\n",
      "| 0.29|  Premium|    I|    VS2| 62.4|   58|  334| 4.2|4.23|2.63|\n",
      "| 0.31|     Good|    J|    SI2| 63.3|   58|  335|4.34|4.35|2.75|\n",
      "| 0.24|Very Good|    J|   VVS2| 62.8|   57|  336|3.94|3.96|2.48|\n",
      "| 0.24|Very Good|    I|   VVS1| 62.3|   57|  336|3.95|3.98|2.47|\n",
      "| 0.26|Very Good|    H|    SI1| 61.9|   55|  337|4.07|4.11|2.53|\n",
      "| 0.22|     Fair|    E|    VS2| 65.1|   61|  337|3.87|3.78|2.49|\n",
      "| 0.23|Very Good|    H|    VS1| 59.4|   61|  338|   4|4.05|2.39|\n",
      "+-----+---------+-----+-------+-----+-----+-----+----+----+----+\n",
      "only showing top 10 rows\n",
      "\n"
     ]
    }
   ],
   "source": [
    "# Method 2: Useful Action with show()\n",
    "# Show first 10 datapoints\n",
    "df.show(10)"
   ]
  },
  {
   "cell_type": "code",
   "execution_count": 33,
   "id": "variable-wells",
   "metadata": {},
   "outputs": [
    {
     "data": {
      "text/plain": [
       "[Row(carat='0.72', cut='Ideal', color='D', clarity='SI1', depth='60.8', table='57', price='2757', x='5.75', y='5.76', z='3.5'),\n",
       " Row(carat='0.72', cut='Good', color='D', clarity='SI1', depth='63.1', table='55', price='2757', x='5.69', y='5.75', z='3.61'),\n",
       " Row(carat='0.7', cut='Very Good', color='D', clarity='SI1', depth='62.8', table='60', price='2757', x='5.66', y='5.68', z='3.56'),\n",
       " Row(carat='0.86', cut='Premium', color='H', clarity='SI2', depth='61', table='58', price='2757', x='6.15', y='6.12', z='3.74'),\n",
       " Row(carat='0.75', cut='Ideal', color='D', clarity='SI2', depth='62.2', table='55', price='2757', x='5.83', y='5.87', z='3.64')]"
      ]
     },
     "execution_count": 33,
     "metadata": {},
     "output_type": "execute_result"
    }
   ],
   "source": [
    "# Get Last Rows\n",
    "df.tail(5)"
   ]
  },
  {
   "cell_type": "markdown",
   "id": "macro-provision",
   "metadata": {},
   "source": [
    "### Selection of columns\n",
    "+ .select\n",
    "######  Note\n",
    "+ Dot & Bracket Notation only gives the column name not the entire column\n",
    "    - ['colA']*\n",
    "    - .colA*"
   ]
  },
  {
   "cell_type": "code",
   "execution_count": 35,
   "id": "amended-robert",
   "metadata": {},
   "outputs": [
    {
     "data": {
      "text/plain": [
       "['carat', 'cut', 'color', 'clarity', 'depth', 'table', 'price', 'x', 'y', 'z']"
      ]
     },
     "execution_count": 35,
     "metadata": {},
     "output_type": "execute_result"
    }
   ],
   "source": [
    "# List all Columns\n",
    "df.columns"
   ]
  },
  {
   "cell_type": "code",
   "execution_count": 37,
   "id": "elementary-eligibility",
   "metadata": {},
   "outputs": [
    {
     "name": "stdout",
     "output_type": "stream",
     "text": [
      "+-----+\n",
      "|carat|\n",
      "+-----+\n",
      "| 0.23|\n",
      "| 0.21|\n",
      "| 0.23|\n",
      "| 0.29|\n",
      "| 0.31|\n",
      "| 0.24|\n",
      "| 0.24|\n",
      "| 0.26|\n",
      "| 0.22|\n",
      "| 0.23|\n",
      "|  0.3|\n",
      "| 0.23|\n",
      "| 0.22|\n",
      "| 0.31|\n",
      "|  0.2|\n",
      "| 0.32|\n",
      "|  0.3|\n",
      "|  0.3|\n",
      "|  0.3|\n",
      "|  0.3|\n",
      "+-----+\n",
      "only showing top 20 rows\n",
      "\n"
     ]
    }
   ],
   "source": [
    "# Select A Column\n",
    "df.select('carat').show()"
   ]
  },
  {
   "cell_type": "code",
   "execution_count": 40,
   "id": "compatible-investigator",
   "metadata": {},
   "outputs": [
    {
     "name": "stdout",
     "output_type": "stream",
     "text": [
      "+-----+\n",
      "|CARAT|\n",
      "+-----+\n",
      "| 0.23|\n",
      "| 0.21|\n",
      "| 0.23|\n",
      "| 0.29|\n",
      "| 0.31|\n",
      "| 0.24|\n",
      "| 0.24|\n",
      "| 0.26|\n",
      "| 0.22|\n",
      "| 0.23|\n",
      "|  0.3|\n",
      "| 0.23|\n",
      "| 0.22|\n",
      "| 0.31|\n",
      "|  0.2|\n",
      "| 0.32|\n",
      "|  0.3|\n",
      "|  0.3|\n",
      "|  0.3|\n",
      "|  0.3|\n",
      "+-----+\n",
      "only showing top 20 rows\n",
      "\n"
     ]
    }
   ],
   "source": [
    "# Select A Column irrespective of column word case\n",
    "# will work irrespective of the case of the column once it is found within the dataset\n",
    "df.select('CARAT').show()"
   ]
  },
  {
   "cell_type": "code",
   "execution_count": 41,
   "id": "unnecessary-yeast",
   "metadata": {},
   "outputs": [
    {
     "data": {
      "text/plain": [
       "Column<b'carat'>"
      ]
     },
     "execution_count": 41,
     "metadata": {},
     "output_type": "execute_result"
    }
   ],
   "source": [
    "# This is not as we would expect in pandas\n",
    "# For Bracket Notation : pick column name not the entire columne\n",
    "df['carat']"
   ]
  },
  {
   "cell_type": "code",
   "execution_count": 44,
   "id": "athletic-heath",
   "metadata": {},
   "outputs": [
    {
     "data": {
      "text/plain": [
       "Column<b'carat'>"
      ]
     },
     "execution_count": 44,
     "metadata": {},
     "output_type": "execute_result"
    }
   ],
   "source": [
    "# This is not as we would expect in pandas\n",
    "# For Dot Notation : pick column name not the entire column\n",
    "df.carat"
   ]
  },
  {
   "cell_type": "code",
   "execution_count": 45,
   "id": "detailed-karma",
   "metadata": {},
   "outputs": [
    {
     "name": "stdout",
     "output_type": "stream",
     "text": [
      "+-----+-------+\n",
      "|carat|    cut|\n",
      "+-----+-------+\n",
      "| 0.23|  Ideal|\n",
      "| 0.21|Premium|\n",
      "| 0.23|   Good|\n",
      "| 0.29|Premium|\n",
      "| 0.31|   Good|\n",
      "+-----+-------+\n",
      "only showing top 5 rows\n",
      "\n"
     ]
    }
   ],
   "source": [
    "# Select Multiple Columns\n",
    "df.select('carat','cut').show(5)"
   ]
  },
  {
   "cell_type": "markdown",
   "id": "distant-mathematics",
   "metadata": {},
   "source": [
    "### Column Filtering and Applying Conditions\n",
    "+ .filter\n",
    "+ .where"
   ]
  },
  {
   "cell_type": "code",
   "execution_count": 46,
   "id": "responsible-archive",
   "metadata": {},
   "outputs": [
    {
     "name": "stdout",
     "output_type": "stream",
     "text": [
      "+-----+---------+-----+-------+-----+-----+-----+----+----+----+\n",
      "|carat|      cut|color|clarity|depth|table|price|   x|   y|   z|\n",
      "+-----+---------+-----+-------+-----+-----+-----+----+----+----+\n",
      "| 0.23|    Ideal|    E|    SI2| 61.5|   55|  326|3.95|3.98|2.43|\n",
      "| 0.21|  Premium|    E|    SI1| 59.8|   61|  326|3.89|3.84|2.31|\n",
      "| 0.23|     Good|    E|    VS1| 56.9|   65|  327|4.05|4.07|2.31|\n",
      "| 0.29|  Premium|    I|    VS2| 62.4|   58|  334| 4.2|4.23|2.63|\n",
      "| 0.31|     Good|    J|    SI2| 63.3|   58|  335|4.34|4.35|2.75|\n",
      "| 0.24|Very Good|    J|   VVS2| 62.8|   57|  336|3.94|3.96|2.48|\n",
      "| 0.24|Very Good|    I|   VVS1| 62.3|   57|  336|3.95|3.98|2.47|\n",
      "| 0.26|Very Good|    H|    SI1| 61.9|   55|  337|4.07|4.11|2.53|\n",
      "| 0.22|     Fair|    E|    VS2| 65.1|   61|  337|3.87|3.78|2.49|\n",
      "| 0.23|Very Good|    H|    VS1| 59.4|   61|  338|   4|4.05|2.39|\n",
      "+-----+---------+-----+-------+-----+-----+-----+----+----+----+\n",
      "only showing top 10 rows\n",
      "\n"
     ]
    }
   ],
   "source": [
    "# Filter of Columns\n",
    "# Apply A Condition\n",
    "df.show(10)"
   ]
  },
  {
   "cell_type": "code",
   "execution_count": 47,
   "id": "baking-reset",
   "metadata": {},
   "outputs": [
    {
     "name": "stdout",
     "output_type": "stream",
     "text": [
      "+-----+----+-----+-------+-----+-----+-----+----+----+----+\n",
      "|carat| cut|color|clarity|depth|table|price|   x|   y|   z|\n",
      "+-----+----+-----+-------+-----+-----+-----+----+----+----+\n",
      "| 0.23|Good|    E|    VS1| 56.9|   65|  327|4.05|4.07|2.31|\n",
      "| 0.31|Good|    J|    SI2| 63.3|   58|  335|4.34|4.35|2.75|\n",
      "|  0.3|Good|    J|    SI1|   64|   55|  339|4.25|4.28|2.73|\n",
      "|  0.3|Good|    J|    SI1| 63.4|   54|  351|4.23|4.29| 2.7|\n",
      "|  0.3|Good|    J|    SI1| 63.8|   56|  351|4.23|4.26|2.71|\n",
      "|  0.3|Good|    I|    SI2| 63.3|   56|  351|4.26| 4.3|2.71|\n",
      "| 0.23|Good|    F|    VS1| 58.2|   59|  402|4.06|4.08|2.37|\n",
      "| 0.23|Good|    E|    VS1| 64.1|   59|  402|3.83|3.85|2.46|\n",
      "| 0.31|Good|    H|    SI1|   64|   54|  402|4.29|4.31|2.75|\n",
      "| 0.26|Good|    D|    VS2| 65.2|   56|  403|3.99|4.02|2.61|\n",
      "| 0.26|Good|    D|    VS1| 58.4|   63|  403|4.19|4.24|2.46|\n",
      "| 0.32|Good|    H|    SI2| 63.1|   56|  403|4.34|4.37|2.75|\n",
      "| 0.32|Good|    H|    SI2| 63.8|   56|  403|4.36|4.38|2.79|\n",
      "|  0.3|Good|    I|    SI1| 63.2|   55|  405|4.25|4.29| 2.7|\n",
      "|  0.3|Good|    H|    SI1| 63.7|   57|  554|4.28|4.26|2.72|\n",
      "| 0.26|Good|    E|   VVS1| 57.9|   60|  554|4.22|4.25|2.45|\n",
      "|  0.7|Good|    E|    VS2| 57.5|   58| 2759|5.85| 5.9|3.38|\n",
      "|  0.7|Good|    F|    VS1| 59.4|   62| 2759|5.71|5.76| 3.4|\n",
      "|  0.7|Good|    H|   VVS2| 62.1|   64| 2767|5.62|5.65| 3.5|\n",
      "| 0.71|Good|    E|    VS2| 59.2|   61| 2772| 5.8|5.88|3.46|\n",
      "+-----+----+-----+-------+-----+-----+-----+----+----+----+\n",
      "only showing top 20 rows\n",
      "\n"
     ]
    }
   ],
   "source": [
    "# Method 1:using filter\n",
    "df.filter(df['cut'] == \"Good\").show()"
   ]
  },
  {
   "cell_type": "code",
   "execution_count": 48,
   "id": "printable-speech",
   "metadata": {},
   "outputs": [
    {
     "name": "stdout",
     "output_type": "stream",
     "text": [
      "+-----+---------+-----+-------+-----+-----+-----+----+----+----+\n",
      "|carat|      cut|color|clarity|depth|table|price|   x|   y|   z|\n",
      "+-----+---------+-----+-------+-----+-----+-----+----+----+----+\n",
      "|  0.7|    Ideal|    E|    SI1| 62.5|   57| 2757| 5.7|5.72|3.57|\n",
      "| 0.86|     Fair|    E|    SI2| 55.1|   69| 2757|6.45|6.33|3.52|\n",
      "|  0.7|    Ideal|    G|    VS2| 61.6|   56| 2757| 5.7|5.67| 3.5|\n",
      "| 0.71|Very Good|    E|    VS2| 62.4|   57| 2759|5.68|5.73|3.56|\n",
      "| 0.78|Very Good|    G|    SI2| 63.8|   56| 2759|5.81|5.85|3.72|\n",
      "|  0.7|     Good|    E|    VS2| 57.5|   58| 2759|5.85| 5.9|3.38|\n",
      "|  0.7|     Good|    F|    VS1| 59.4|   62| 2759|5.71|5.76| 3.4|\n",
      "| 0.96|     Fair|    F|    SI2| 66.3|   62| 2759|6.27|5.95|4.07|\n",
      "| 0.73|Very Good|    E|    SI1| 61.6|   59| 2760|5.77|5.78|3.56|\n",
      "|  0.8|  Premium|    H|    SI1| 61.5|   58| 2760|5.97|5.93|3.66|\n",
      "| 0.75|Very Good|    D|    SI1| 63.2|   56| 2760| 5.8|5.75|3.65|\n",
      "| 0.75|  Premium|    E|    SI1| 59.9|   54| 2760|   6|5.96|3.58|\n",
      "| 0.74|    Ideal|    G|    SI1| 61.6|   55| 2760| 5.8|5.85|3.59|\n",
      "| 0.75|  Premium|    G|    VS2| 61.7|   58| 2760|5.85|5.79|3.59|\n",
      "|  0.8|    Ideal|    I|    VS1| 62.9|   56| 2760|5.94|5.87|3.72|\n",
      "| 0.75|    Ideal|    G|    SI1| 62.2|   55| 2760|5.87| 5.8|3.63|\n",
      "|  0.8|  Premium|    G|    SI1|   63|   59| 2760| 5.9|5.81|3.69|\n",
      "| 0.74|    Ideal|    I|   VVS2| 62.3|   55| 2761|5.77|5.81|3.61|\n",
      "| 0.81|    Ideal|    F|    SI2| 58.8|   57| 2761|6.14|6.11| 3.6|\n",
      "|  0.8|    Ideal|    F|    SI2| 61.4|   57| 2761|5.96|   6|3.67|\n",
      "+-----+---------+-----+-------+-----+-----+-----+----+----+----+\n",
      "only showing top 20 rows\n",
      "\n"
     ]
    }
   ],
   "source": [
    "# Method 1:using filter\n",
    "df.filter(df.carat >= 0.7).show()"
   ]
  },
  {
   "cell_type": "code",
   "execution_count": 49,
   "id": "personal-monster",
   "metadata": {},
   "outputs": [
    {
     "name": "stdout",
     "output_type": "stream",
     "text": [
      "+-----+----+-----+-------+-----+-----+-----+----+----+----+\n",
      "|carat| cut|color|clarity|depth|table|price|   x|   y|   z|\n",
      "+-----+----+-----+-------+-----+-----+-----+----+----+----+\n",
      "| 0.23|Good|    E|    VS1| 56.9|   65|  327|4.05|4.07|2.31|\n",
      "| 0.31|Good|    J|    SI2| 63.3|   58|  335|4.34|4.35|2.75|\n",
      "|  0.3|Good|    J|    SI1|   64|   55|  339|4.25|4.28|2.73|\n",
      "|  0.3|Good|    J|    SI1| 63.4|   54|  351|4.23|4.29| 2.7|\n",
      "|  0.3|Good|    J|    SI1| 63.8|   56|  351|4.23|4.26|2.71|\n",
      "|  0.3|Good|    I|    SI2| 63.3|   56|  351|4.26| 4.3|2.71|\n",
      "| 0.23|Good|    F|    VS1| 58.2|   59|  402|4.06|4.08|2.37|\n",
      "| 0.23|Good|    E|    VS1| 64.1|   59|  402|3.83|3.85|2.46|\n",
      "| 0.31|Good|    H|    SI1|   64|   54|  402|4.29|4.31|2.75|\n",
      "| 0.26|Good|    D|    VS2| 65.2|   56|  403|3.99|4.02|2.61|\n",
      "| 0.26|Good|    D|    VS1| 58.4|   63|  403|4.19|4.24|2.46|\n",
      "| 0.32|Good|    H|    SI2| 63.1|   56|  403|4.34|4.37|2.75|\n",
      "| 0.32|Good|    H|    SI2| 63.8|   56|  403|4.36|4.38|2.79|\n",
      "|  0.3|Good|    I|    SI1| 63.2|   55|  405|4.25|4.29| 2.7|\n",
      "|  0.3|Good|    H|    SI1| 63.7|   57|  554|4.28|4.26|2.72|\n",
      "| 0.26|Good|    E|   VVS1| 57.9|   60|  554|4.22|4.25|2.45|\n",
      "|  0.7|Good|    E|    VS2| 57.5|   58| 2759|5.85| 5.9|3.38|\n",
      "|  0.7|Good|    F|    VS1| 59.4|   62| 2759|5.71|5.76| 3.4|\n",
      "|  0.7|Good|    H|   VVS2| 62.1|   64| 2767|5.62|5.65| 3.5|\n",
      "| 0.71|Good|    E|    VS2| 59.2|   61| 2772| 5.8|5.88|3.46|\n",
      "+-----+----+-----+-------+-----+-----+-----+----+----+----+\n",
      "only showing top 20 rows\n",
      "\n"
     ]
    }
   ],
   "source": [
    "# Method 2: where\n",
    "df.where(df['cut'] == 'Good').show()"
   ]
  },
  {
   "cell_type": "code",
   "execution_count": 51,
   "id": "theoretical-ghost",
   "metadata": {},
   "outputs": [
    {
     "name": "stdout",
     "output_type": "stream",
     "text": [
      "+-----+----+\n",
      "|price| cut|\n",
      "+-----+----+\n",
      "|  327|Good|\n",
      "|  335|Good|\n",
      "|  339|Good|\n",
      "|  351|Good|\n",
      "|  351|Good|\n",
      "|  351|Good|\n",
      "|  402|Good|\n",
      "|  402|Good|\n",
      "|  402|Good|\n",
      "|  403|Good|\n",
      "|  403|Good|\n",
      "|  403|Good|\n",
      "|  403|Good|\n",
      "|  405|Good|\n",
      "|  554|Good|\n",
      "|  554|Good|\n",
      "| 2759|Good|\n",
      "| 2759|Good|\n",
      "| 2767|Good|\n",
      "| 2772|Good|\n",
      "+-----+----+\n",
      "only showing top 20 rows\n",
      "\n"
     ]
    }
   ],
   "source": [
    "# Method 2: where\n",
    "# select certain columns\n",
    "df.where(df['cut'] == 'Good').select('price','cut').show()"
   ]
  },
  {
   "cell_type": "code",
   "execution_count": 52,
   "id": "motivated-nevada",
   "metadata": {},
   "outputs": [
    {
     "name": "stdout",
     "output_type": "stream",
     "text": [
      "+---------+\n",
      "|      cut|\n",
      "+---------+\n",
      "|  Premium|\n",
      "|    Ideal|\n",
      "|     Good|\n",
      "|     Fair|\n",
      "|Very Good|\n",
      "+---------+\n",
      "\n"
     ]
    }
   ],
   "source": [
    "# Unique Values\n",
    "# df['cut'].unique()\n",
    "df.select(\"cut\").distinct().show()"
   ]
  },
  {
   "cell_type": "markdown",
   "id": "strange-heritage",
   "metadata": {},
   "source": [
    "### How to Add Columns & Delete/Drop Columns\n",
    "+ .withColumn()\n",
    "+ .drop()"
   ]
  },
  {
   "cell_type": "code",
   "execution_count": 54,
   "id": "sharing-trouble",
   "metadata": {},
   "outputs": [
    {
     "name": "stdout",
     "output_type": "stream",
     "text": [
      "+-----+---------+-----+-------+-----+-----+-----+----+----+----+------------------+\n",
      "|carat|      cut|color|clarity|depth|table|price|   x|   y|   z|          carat10x|\n",
      "+-----+---------+-----+-------+-----+-----+-----+----+----+----+------------------+\n",
      "| 0.23|    Ideal|    E|    SI2| 61.5|   55|  326|3.95|3.98|2.43|2.3000000000000003|\n",
      "| 0.21|  Premium|    E|    SI1| 59.8|   61|  326|3.89|3.84|2.31|               2.1|\n",
      "| 0.23|     Good|    E|    VS1| 56.9|   65|  327|4.05|4.07|2.31|2.3000000000000003|\n",
      "| 0.29|  Premium|    I|    VS2| 62.4|   58|  334| 4.2|4.23|2.63|               2.9|\n",
      "| 0.31|     Good|    J|    SI2| 63.3|   58|  335|4.34|4.35|2.75|               3.1|\n",
      "| 0.24|Very Good|    J|   VVS2| 62.8|   57|  336|3.94|3.96|2.48|               2.4|\n",
      "| 0.24|Very Good|    I|   VVS1| 62.3|   57|  336|3.95|3.98|2.47|               2.4|\n",
      "| 0.26|Very Good|    H|    SI1| 61.9|   55|  337|4.07|4.11|2.53|               2.6|\n",
      "| 0.22|     Fair|    E|    VS2| 65.1|   61|  337|3.87|3.78|2.49|               2.2|\n",
      "| 0.23|Very Good|    H|    VS1| 59.4|   61|  338|   4|4.05|2.39|2.3000000000000003|\n",
      "|  0.3|     Good|    J|    SI1|   64|   55|  339|4.25|4.28|2.73|               3.0|\n",
      "| 0.23|    Ideal|    J|    VS1| 62.8|   56|  340|3.93| 3.9|2.46|2.3000000000000003|\n",
      "| 0.22|  Premium|    F|    SI1| 60.4|   61|  342|3.88|3.84|2.33|               2.2|\n",
      "| 0.31|    Ideal|    J|    SI2| 62.2|   54|  344|4.35|4.37|2.71|               3.1|\n",
      "|  0.2|  Premium|    E|    SI2| 60.2|   62|  345|3.79|3.75|2.27|               2.0|\n",
      "| 0.32|  Premium|    E|     I1| 60.9|   58|  345|4.38|4.42|2.68|               3.2|\n",
      "|  0.3|    Ideal|    I|    SI2|   62|   54|  348|4.31|4.34|2.68|               3.0|\n",
      "|  0.3|     Good|    J|    SI1| 63.4|   54|  351|4.23|4.29| 2.7|               3.0|\n",
      "|  0.3|     Good|    J|    SI1| 63.8|   56|  351|4.23|4.26|2.71|               3.0|\n",
      "|  0.3|Very Good|    J|    SI1| 62.7|   59|  351|4.21|4.27|2.66|               3.0|\n",
      "+-----+---------+-----+-------+-----+-----+-----+----+----+----+------------------+\n",
      "only showing top 20 rows\n",
      "\n"
     ]
    }
   ],
   "source": [
    "# Add Columns\n",
    "df.withColumn(\"carat10x\",df['carat'] * 10).show()"
   ]
  },
  {
   "cell_type": "code",
   "execution_count": 55,
   "id": "approved-tuner",
   "metadata": {},
   "outputs": [
    {
     "name": "stdout",
     "output_type": "stream",
     "text": [
      "+-----+---------+-----+-------+-----+-----+-----+----+----+----+\n",
      "|carat|      cut|color|clarity|depth|table|price|   x|   y|   z|\n",
      "+-----+---------+-----+-------+-----+-----+-----+----+----+----+\n",
      "| 0.23|    Ideal|    E|    SI2| 61.5|   55|  326|3.95|3.98|2.43|\n",
      "| 0.21|  Premium|    E|    SI1| 59.8|   61|  326|3.89|3.84|2.31|\n",
      "| 0.23|     Good|    E|    VS1| 56.9|   65|  327|4.05|4.07|2.31|\n",
      "| 0.29|  Premium|    I|    VS2| 62.4|   58|  334| 4.2|4.23|2.63|\n",
      "| 0.31|     Good|    J|    SI2| 63.3|   58|  335|4.34|4.35|2.75|\n",
      "| 0.24|Very Good|    J|   VVS2| 62.8|   57|  336|3.94|3.96|2.48|\n",
      "| 0.24|Very Good|    I|   VVS1| 62.3|   57|  336|3.95|3.98|2.47|\n",
      "| 0.26|Very Good|    H|    SI1| 61.9|   55|  337|4.07|4.11|2.53|\n",
      "| 0.22|     Fair|    E|    VS2| 65.1|   61|  337|3.87|3.78|2.49|\n",
      "| 0.23|Very Good|    H|    VS1| 59.4|   61|  338|   4|4.05|2.39|\n",
      "|  0.3|     Good|    J|    SI1|   64|   55|  339|4.25|4.28|2.73|\n",
      "| 0.23|    Ideal|    J|    VS1| 62.8|   56|  340|3.93| 3.9|2.46|\n",
      "| 0.22|  Premium|    F|    SI1| 60.4|   61|  342|3.88|3.84|2.33|\n",
      "| 0.31|    Ideal|    J|    SI2| 62.2|   54|  344|4.35|4.37|2.71|\n",
      "|  0.2|  Premium|    E|    SI2| 60.2|   62|  345|3.79|3.75|2.27|\n",
      "| 0.32|  Premium|    E|     I1| 60.9|   58|  345|4.38|4.42|2.68|\n",
      "|  0.3|    Ideal|    I|    SI2|   62|   54|  348|4.31|4.34|2.68|\n",
      "|  0.3|     Good|    J|    SI1| 63.4|   54|  351|4.23|4.29| 2.7|\n",
      "|  0.3|     Good|    J|    SI1| 63.8|   56|  351|4.23|4.26|2.71|\n",
      "|  0.3|Very Good|    J|    SI1| 62.7|   59|  351|4.21|4.27|2.66|\n",
      "+-----+---------+-----+-------+-----+-----+-----+----+----+----+\n",
      "only showing top 20 rows\n",
      "\n"
     ]
    }
   ],
   "source": [
    "df.show()"
   ]
  },
  {
   "cell_type": "code",
   "execution_count": 63,
   "id": "challenging-quebec",
   "metadata": {},
   "outputs": [],
   "source": [
    "df2 = df.withColumn(\"carat10x\",df['carat'] * 10)"
   ]
  },
  {
   "cell_type": "code",
   "execution_count": 65,
   "id": "confident-prince",
   "metadata": {},
   "outputs": [
    {
     "name": "stdout",
     "output_type": "stream",
     "text": [
      "+-----+---------+-----+-------+-----+-----+-----+----+----+----+------------------+\n",
      "|carat|      cut|color|clarity|depth|table|price|   x|   y|   z|          carat10x|\n",
      "+-----+---------+-----+-------+-----+-----+-----+----+----+----+------------------+\n",
      "| 0.23|    Ideal|    E|    SI2| 61.5|   55|  326|3.95|3.98|2.43|2.3000000000000003|\n",
      "| 0.21|  Premium|    E|    SI1| 59.8|   61|  326|3.89|3.84|2.31|               2.1|\n",
      "| 0.23|     Good|    E|    VS1| 56.9|   65|  327|4.05|4.07|2.31|2.3000000000000003|\n",
      "| 0.29|  Premium|    I|    VS2| 62.4|   58|  334| 4.2|4.23|2.63|               2.9|\n",
      "| 0.31|     Good|    J|    SI2| 63.3|   58|  335|4.34|4.35|2.75|               3.1|\n",
      "| 0.24|Very Good|    J|   VVS2| 62.8|   57|  336|3.94|3.96|2.48|               2.4|\n",
      "| 0.24|Very Good|    I|   VVS1| 62.3|   57|  336|3.95|3.98|2.47|               2.4|\n",
      "| 0.26|Very Good|    H|    SI1| 61.9|   55|  337|4.07|4.11|2.53|               2.6|\n",
      "| 0.22|     Fair|    E|    VS2| 65.1|   61|  337|3.87|3.78|2.49|               2.2|\n",
      "| 0.23|Very Good|    H|    VS1| 59.4|   61|  338|   4|4.05|2.39|2.3000000000000003|\n",
      "|  0.3|     Good|    J|    SI1|   64|   55|  339|4.25|4.28|2.73|               3.0|\n",
      "| 0.23|    Ideal|    J|    VS1| 62.8|   56|  340|3.93| 3.9|2.46|2.3000000000000003|\n",
      "| 0.22|  Premium|    F|    SI1| 60.4|   61|  342|3.88|3.84|2.33|               2.2|\n",
      "| 0.31|    Ideal|    J|    SI2| 62.2|   54|  344|4.35|4.37|2.71|               3.1|\n",
      "|  0.2|  Premium|    E|    SI2| 60.2|   62|  345|3.79|3.75|2.27|               2.0|\n",
      "| 0.32|  Premium|    E|     I1| 60.9|   58|  345|4.38|4.42|2.68|               3.2|\n",
      "|  0.3|    Ideal|    I|    SI2|   62|   54|  348|4.31|4.34|2.68|               3.0|\n",
      "|  0.3|     Good|    J|    SI1| 63.4|   54|  351|4.23|4.29| 2.7|               3.0|\n",
      "|  0.3|     Good|    J|    SI1| 63.8|   56|  351|4.23|4.26|2.71|               3.0|\n",
      "|  0.3|Very Good|    J|    SI1| 62.7|   59|  351|4.21|4.27|2.66|               3.0|\n",
      "+-----+---------+-----+-------+-----+-----+-----+----+----+----+------------------+\n",
      "only showing top 20 rows\n",
      "\n"
     ]
    }
   ],
   "source": [
    "df2.show()"
   ]
  },
  {
   "cell_type": "code",
   "execution_count": 67,
   "id": "metropolitan-reminder",
   "metadata": {},
   "outputs": [
    {
     "name": "stdout",
     "output_type": "stream",
     "text": [
      "+-----+---------+-----+-------+-----+-----+-----+----+----+----+\n",
      "|carat|      cut|color|clarity|depth|table|price|   x|   y|   z|\n",
      "+-----+---------+-----+-------+-----+-----+-----+----+----+----+\n",
      "| 0.23|    Ideal|    E|    SI2| 61.5|   55|  326|3.95|3.98|2.43|\n",
      "| 0.21|  Premium|    E|    SI1| 59.8|   61|  326|3.89|3.84|2.31|\n",
      "| 0.23|     Good|    E|    VS1| 56.9|   65|  327|4.05|4.07|2.31|\n",
      "| 0.29|  Premium|    I|    VS2| 62.4|   58|  334| 4.2|4.23|2.63|\n",
      "| 0.31|     Good|    J|    SI2| 63.3|   58|  335|4.34|4.35|2.75|\n",
      "| 0.24|Very Good|    J|   VVS2| 62.8|   57|  336|3.94|3.96|2.48|\n",
      "| 0.24|Very Good|    I|   VVS1| 62.3|   57|  336|3.95|3.98|2.47|\n",
      "| 0.26|Very Good|    H|    SI1| 61.9|   55|  337|4.07|4.11|2.53|\n",
      "| 0.22|     Fair|    E|    VS2| 65.1|   61|  337|3.87|3.78|2.49|\n",
      "| 0.23|Very Good|    H|    VS1| 59.4|   61|  338|   4|4.05|2.39|\n",
      "|  0.3|     Good|    J|    SI1|   64|   55|  339|4.25|4.28|2.73|\n",
      "| 0.23|    Ideal|    J|    VS1| 62.8|   56|  340|3.93| 3.9|2.46|\n",
      "| 0.22|  Premium|    F|    SI1| 60.4|   61|  342|3.88|3.84|2.33|\n",
      "| 0.31|    Ideal|    J|    SI2| 62.2|   54|  344|4.35|4.37|2.71|\n",
      "|  0.2|  Premium|    E|    SI2| 60.2|   62|  345|3.79|3.75|2.27|\n",
      "| 0.32|  Premium|    E|     I1| 60.9|   58|  345|4.38|4.42|2.68|\n",
      "|  0.3|    Ideal|    I|    SI2|   62|   54|  348|4.31|4.34|2.68|\n",
      "|  0.3|     Good|    J|    SI1| 63.4|   54|  351|4.23|4.29| 2.7|\n",
      "|  0.3|     Good|    J|    SI1| 63.8|   56|  351|4.23|4.26|2.71|\n",
      "|  0.3|Very Good|    J|    SI1| 62.7|   59|  351|4.21|4.27|2.66|\n",
      "+-----+---------+-----+-------+-----+-----+-----+----+----+----+\n",
      "only showing top 20 rows\n",
      "\n"
     ]
    }
   ],
   "source": [
    "# Delete/Drop A Column\n",
    "df2.drop('carat10x').show()"
   ]
  },
  {
   "cell_type": "markdown",
   "id": "international-railway",
   "metadata": {},
   "source": [
    "### GroupBy\n",
    "+ value counts\n",
    "+ aggregate"
   ]
  },
  {
   "cell_type": "code",
   "execution_count": 69,
   "id": "greatest-theology",
   "metadata": {},
   "outputs": [
    {
     "name": "stdout",
     "output_type": "stream",
     "text": [
      "+---------+-----+\n",
      "|      cut|count|\n",
      "+---------+-----+\n",
      "|  Premium|13791|\n",
      "|    Ideal|21551|\n",
      "|     Good| 4906|\n",
      "|     Fair| 1610|\n",
      "|Very Good|12082|\n",
      "+---------+-----+\n",
      "\n"
     ]
    }
   ],
   "source": [
    "# Value Counts\n",
    "# df['cut'].value_counts()\n",
    "# df.groupby('cut')[].size()\n",
    "df.groupBy('cut').count().show()"
   ]
  },
  {
   "cell_type": "code",
   "execution_count": 70,
   "id": "packed-virginia",
   "metadata": {},
   "outputs": [
    {
     "name": "stdout",
     "output_type": "stream",
     "text": [
      "+-----+\n",
      "|price|\n",
      "+-----+\n",
      "| 2904|\n",
      "| 3210|\n",
      "| 3414|\n",
      "| 3606|\n",
      "| 3959|\n",
      "| 4032|\n",
      "| 4821|\n",
      "| 4937|\n",
      "| 5325|\n",
      "| 5645|\n",
      "| 5925|\n",
      "| 6194|\n",
      "| 6240|\n",
      "| 6613|\n",
      "| 6731|\n",
      "| 7273|\n",
      "| 7711|\n",
      "| 7762|\n",
      "| 9009|\n",
      "| 9030|\n",
      "+-----+\n",
      "only showing top 20 rows\n",
      "\n"
     ]
    }
   ],
   "source": [
    "# More Groupby\n",
    "df.groupBy('price').mean().show()"
   ]
  },
  {
   "cell_type": "code",
   "execution_count": 71,
   "id": "pediatric-check",
   "metadata": {},
   "outputs": [
    {
     "name": "stdout",
     "output_type": "stream",
     "text": [
      "+-----+\n",
      "|price|\n",
      "+-----+\n",
      "| 2904|\n",
      "| 3210|\n",
      "| 3414|\n",
      "| 3606|\n",
      "| 3959|\n",
      "| 4032|\n",
      "| 4821|\n",
      "| 4937|\n",
      "| 5325|\n",
      "| 5645|\n",
      "| 5925|\n",
      "| 6194|\n",
      "| 6240|\n",
      "| 6613|\n",
      "| 6731|\n",
      "| 7273|\n",
      "| 7711|\n",
      "| 7762|\n",
      "| 9009|\n",
      "| 9030|\n",
      "+-----+\n",
      "only showing top 20 rows\n",
      "\n"
     ]
    }
   ],
   "source": [
    "#  Sum of A groupby\n",
    "df.groupBy('price').sum().show()"
   ]
  },
  {
   "cell_type": "code",
   "execution_count": null,
   "id": "million-stick",
   "metadata": {},
   "outputs": [],
   "source": [
    "# # Aggregation\n",
    "# df.groupBy('carat').agg('col':'sum')"
   ]
  },
  {
   "cell_type": "code",
   "execution_count": 73,
   "id": "executive-sheet",
   "metadata": {},
   "outputs": [
    {
     "name": "stdout",
     "output_type": "stream",
     "text": [
      "+-----+---------+-----+-------+-----+-----+-----+----+----+----+\n",
      "|carat|      cut|color|clarity|depth|table|price|   x|   y|   z|\n",
      "+-----+---------+-----+-------+-----+-----+-----+----+----+----+\n",
      "| 0.23|    Ideal|    E|    SI2| 61.5|   55|  326|3.95|3.98|2.43|\n",
      "| 0.21|  Premium|    E|    SI1| 59.8|   61|  326|3.89|3.84|2.31|\n",
      "| 0.23|     Good|    E|    VS1| 56.9|   65|  327|4.05|4.07|2.31|\n",
      "| 0.29|  Premium|    I|    VS2| 62.4|   58|  334| 4.2|4.23|2.63|\n",
      "| 0.31|     Good|    J|    SI2| 63.3|   58|  335|4.34|4.35|2.75|\n",
      "| 0.24|Very Good|    J|   VVS2| 62.8|   57|  336|3.94|3.96|2.48|\n",
      "| 0.24|Very Good|    I|   VVS1| 62.3|   57|  336|3.95|3.98|2.47|\n",
      "| 0.26|Very Good|    H|    SI1| 61.9|   55|  337|4.07|4.11|2.53|\n",
      "| 0.22|     Fair|    E|    VS2| 65.1|   61|  337|3.87|3.78|2.49|\n",
      "| 0.23|Very Good|    H|    VS1| 59.4|   61|  338|   4|4.05|2.39|\n",
      "|  0.3|     Good|    J|    SI1|   64|   55|  339|4.25|4.28|2.73|\n",
      "| 0.23|    Ideal|    J|    VS1| 62.8|   56|  340|3.93| 3.9|2.46|\n",
      "| 0.22|  Premium|    F|    SI1| 60.4|   61|  342|3.88|3.84|2.33|\n",
      "| 0.31|    Ideal|    J|    SI2| 62.2|   54|  344|4.35|4.37|2.71|\n",
      "|  0.2|  Premium|    E|    SI2| 60.2|   62|  345|3.79|3.75|2.27|\n",
      "| 0.32|  Premium|    E|     I1| 60.9|   58|  345|4.38|4.42|2.68|\n",
      "|  0.3|    Ideal|    I|    SI2|   62|   54|  348|4.31|4.34|2.68|\n",
      "|  0.3|     Good|    J|    SI1| 63.4|   54|  351|4.23|4.29| 2.7|\n",
      "|  0.3|     Good|    J|    SI1| 63.8|   56|  351|4.23|4.26|2.71|\n",
      "|  0.3|Very Good|    J|    SI1| 62.7|   59|  351|4.21|4.27|2.66|\n",
      "+-----+---------+-----+-------+-----+-----+-----+----+----+----+\n",
      "only showing top 20 rows\n",
      "\n"
     ]
    }
   ],
   "source": [
    "df.show()"
   ]
  },
  {
   "cell_type": "code",
   "execution_count": 74,
   "id": "mounted-alberta",
   "metadata": {},
   "outputs": [
    {
     "data": {
      "text/plain": [
       "['carat', 'cut', 'color', 'clarity', 'depth', 'table', 'price', 'x', 'y', 'z']"
      ]
     },
     "execution_count": 74,
     "metadata": {},
     "output_type": "execute_result"
    }
   ],
   "source": [
    "df.columns"
   ]
  },
  {
   "cell_type": "code",
   "execution_count": 75,
   "id": "classified-niger",
   "metadata": {},
   "outputs": [
    {
     "name": "stdout",
     "output_type": "stream",
     "text": [
      "+-----+-----+-------+-----+-----+-----+----+----+----+---------+\n",
      "|carat|color|clarity|depth|table|price|   x|   y|   z|      cut|\n",
      "+-----+-----+-------+-----+-----+-----+----+----+----+---------+\n",
      "| 0.23|    E|    SI2| 61.5|   55|  326|3.95|3.98|2.43|    Ideal|\n",
      "| 0.21|    E|    SI1| 59.8|   61|  326|3.89|3.84|2.31|  Premium|\n",
      "| 0.23|    E|    VS1| 56.9|   65|  327|4.05|4.07|2.31|     Good|\n",
      "| 0.29|    I|    VS2| 62.4|   58|  334| 4.2|4.23|2.63|  Premium|\n",
      "| 0.31|    J|    SI2| 63.3|   58|  335|4.34|4.35|2.75|     Good|\n",
      "| 0.24|    J|   VVS2| 62.8|   57|  336|3.94|3.96|2.48|Very Good|\n",
      "| 0.24|    I|   VVS1| 62.3|   57|  336|3.95|3.98|2.47|Very Good|\n",
      "| 0.26|    H|    SI1| 61.9|   55|  337|4.07|4.11|2.53|Very Good|\n",
      "| 0.22|    E|    VS2| 65.1|   61|  337|3.87|3.78|2.49|     Fair|\n",
      "| 0.23|    H|    VS1| 59.4|   61|  338|   4|4.05|2.39|Very Good|\n",
      "|  0.3|    J|    SI1|   64|   55|  339|4.25|4.28|2.73|     Good|\n",
      "| 0.23|    J|    VS1| 62.8|   56|  340|3.93| 3.9|2.46|    Ideal|\n",
      "| 0.22|    F|    SI1| 60.4|   61|  342|3.88|3.84|2.33|  Premium|\n",
      "| 0.31|    J|    SI2| 62.2|   54|  344|4.35|4.37|2.71|    Ideal|\n",
      "|  0.2|    E|    SI2| 60.2|   62|  345|3.79|3.75|2.27|  Premium|\n",
      "| 0.32|    E|     I1| 60.9|   58|  345|4.38|4.42|2.68|  Premium|\n",
      "|  0.3|    I|    SI2|   62|   54|  348|4.31|4.34|2.68|    Ideal|\n",
      "|  0.3|    J|    SI1| 63.4|   54|  351|4.23|4.29| 2.7|     Good|\n",
      "|  0.3|    J|    SI1| 63.8|   56|  351|4.23|4.26|2.71|     Good|\n",
      "|  0.3|    J|    SI1| 62.7|   59|  351|4.21|4.27|2.66|Very Good|\n",
      "+-----+-----+-------+-----+-----+-----+----+----+----+---------+\n",
      "only showing top 20 rows\n",
      "\n"
     ]
    }
   ],
   "source": [
    "# Rearrange Columns\n",
    "df.select('carat', 'color', 'clarity', 'depth', 'table', 'price', 'x', 'y', 'z','cut').show()"
   ]
  },
  {
   "cell_type": "code",
   "execution_count": 76,
   "id": "incorporated-tonight",
   "metadata": {},
   "outputs": [],
   "source": [
    "# Assign DF to a New DF\n",
    "new_df = df.select('carat', 'color', 'clarity', 'depth', 'table', 'price', 'x', 'y', 'z','cut')"
   ]
  },
  {
   "cell_type": "code",
   "execution_count": 77,
   "id": "narrow-suicide",
   "metadata": {},
   "outputs": [
    {
     "data": {
      "text/plain": [
       "DataFrame[carat: string, color: string, clarity: string, depth: string, table: string, price: string, x: string, y: string, z: string, cut: string]"
      ]
     },
     "execution_count": 77,
     "metadata": {},
     "output_type": "execute_result"
    }
   ],
   "source": [
    "new_df"
   ]
  },
  {
   "cell_type": "code",
   "execution_count": 78,
   "id": "capital-details",
   "metadata": {},
   "outputs": [
    {
     "data": {
      "text/plain": [
       "[('carat', 'string'),\n",
       " ('color', 'string'),\n",
       " ('clarity', 'string'),\n",
       " ('depth', 'string'),\n",
       " ('table', 'string'),\n",
       " ('price', 'string'),\n",
       " ('x', 'string'),\n",
       " ('y', 'string'),\n",
       " ('z', 'string'),\n",
       " ('cut', 'string')]"
      ]
     },
     "execution_count": 78,
     "metadata": {},
     "output_type": "execute_result"
    }
   ],
   "source": [
    "# Check Datatype\n",
    "new_df.dtypes"
   ]
  },
  {
   "cell_type": "code",
   "execution_count": 80,
   "id": "anonymous-pastor",
   "metadata": {},
   "outputs": [
    {
     "name": "stdout",
     "output_type": "stream",
     "text": [
      "root\n",
      " |-- carat: string (nullable = true)\n",
      " |-- cut: string (nullable = true)\n",
      " |-- color: string (nullable = true)\n",
      " |-- clarity: string (nullable = true)\n",
      " |-- depth: string (nullable = true)\n",
      " |-- table: string (nullable = true)\n",
      " |-- price: string (nullable = true)\n",
      " |-- x: string (nullable = true)\n",
      " |-- y: string (nullable = true)\n",
      " |-- z: string (nullable = true)\n",
      "\n"
     ]
    }
   ],
   "source": [
    "# Check For the Schema\n",
    "df.printSchema()"
   ]
  },
  {
   "cell_type": "code",
   "execution_count": 81,
   "id": "known-thirty",
   "metadata": {},
   "outputs": [
    {
     "data": {
      "text/plain": [
       "pyspark.sql.dataframe.DataFrame"
      ]
     },
     "execution_count": 81,
     "metadata": {},
     "output_type": "execute_result"
    }
   ],
   "source": [
    "# Check type of DF\n",
    "type(df)"
   ]
  },
  {
   "cell_type": "markdown",
   "id": "terminal-innocent",
   "metadata": {},
   "source": [
    "### Saving DataFrames as CSV,parquet etc"
   ]
  },
  {
   "cell_type": "code",
   "execution_count": 83,
   "id": "verified-theorem",
   "metadata": {},
   "outputs": [],
   "source": [
    "# Save \n",
    "new_df.write.format('csv').option('header','true').save(\"diamond_clean.csv\")"
   ]
  },
  {
   "cell_type": "code",
   "execution_count": 84,
   "id": "eight-awareness",
   "metadata": {},
   "outputs": [
    {
     "name": "stdout",
     "output_type": "stream",
     "text": [
      " diamond_clean.csv   diamonds.csv  'PySpark Crash Course.ipynb'   work\r\n"
     ]
    }
   ],
   "source": [
    "!ls"
   ]
  },
  {
   "cell_type": "code",
   "execution_count": null,
   "id": "brave-array",
   "metadata": {},
   "outputs": [],
   "source": [
    "# Save  as parquet\n",
    "new_df.write.format('parquet').save(\"diamond_clean.parquet\")"
   ]
  },
  {
   "cell_type": "markdown",
   "id": "alternative-tuner",
   "metadata": {},
   "source": [
    "### Making SQL Queries\n",
    "+ parse in the spark.SparkContext\n",
    "+ sqlContext\n",
    "\n"
   ]
  },
  {
   "cell_type": "code",
   "execution_count": 85,
   "id": "chemical-dining",
   "metadata": {},
   "outputs": [],
   "source": [
    "from pyspark.sql import SQLContext"
   ]
  },
  {
   "cell_type": "code",
   "execution_count": 92,
   "id": "bound-crack",
   "metadata": {},
   "outputs": [
    {
     "data": {
      "text/plain": [
       "['Builder',\n",
       " '__class__',\n",
       " '__delattr__',\n",
       " '__dict__',\n",
       " '__dir__',\n",
       " '__doc__',\n",
       " '__enter__',\n",
       " '__eq__',\n",
       " '__exit__',\n",
       " '__format__',\n",
       " '__ge__',\n",
       " '__getattribute__',\n",
       " '__gt__',\n",
       " '__hash__',\n",
       " '__init__',\n",
       " '__init_subclass__',\n",
       " '__le__',\n",
       " '__lt__',\n",
       " '__module__',\n",
       " '__ne__',\n",
       " '__new__',\n",
       " '__reduce__',\n",
       " '__reduce_ex__',\n",
       " '__repr__',\n",
       " '__setattr__',\n",
       " '__sizeof__',\n",
       " '__str__',\n",
       " '__subclasshook__',\n",
       " '__weakref__',\n",
       " '_activeSession',\n",
       " '_convert_from_pandas',\n",
       " '_createFromLocal',\n",
       " '_createFromRDD',\n",
       " '_create_dataframe',\n",
       " '_create_from_pandas_with_arrow',\n",
       " '_create_shell_session',\n",
       " '_get_numpy_record_dtype',\n",
       " '_inferSchema',\n",
       " '_inferSchemaFromList',\n",
       " '_instantiatedSession',\n",
       " '_jsc',\n",
       " '_jsparkSession',\n",
       " '_jvm',\n",
       " '_jwrapped',\n",
       " '_repr_html_',\n",
       " '_sc',\n",
       " '_wrapped',\n",
       " 'builder',\n",
       " 'catalog',\n",
       " 'conf',\n",
       " 'createDataFrame',\n",
       " 'getActiveSession',\n",
       " 'newSession',\n",
       " 'range',\n",
       " 'read',\n",
       " 'readStream',\n",
       " 'sparkContext',\n",
       " 'sql',\n",
       " 'stop',\n",
       " 'streams',\n",
       " 'table',\n",
       " 'udf',\n",
       " 'version']"
      ]
     },
     "execution_count": 92,
     "metadata": {},
     "output_type": "execute_result"
    }
   ],
   "source": [
    "dir(spark)"
   ]
  },
  {
   "cell_type": "code",
   "execution_count": 93,
   "id": "alternative-celebrity",
   "metadata": {},
   "outputs": [],
   "source": [
    "# Create A Spark Context From the Spark Session\n",
    "sc = spark.sparkContext"
   ]
  },
  {
   "cell_type": "code",
   "execution_count": 94,
   "id": "independent-accounting",
   "metadata": {},
   "outputs": [],
   "source": [
    "# Parse into the SQLContext\n",
    "sqlContext = SQLContext(sc)"
   ]
  },
  {
   "cell_type": "code",
   "execution_count": 96,
   "id": "general-reggae",
   "metadata": {},
   "outputs": [],
   "source": [
    "# Register Current DataFrame As Temporal Table\n",
    "df.registerTempTable(\"DiamondsTable\")\n"
   ]
  },
  {
   "cell_type": "code",
   "execution_count": 97,
   "id": "incorporated-building",
   "metadata": {},
   "outputs": [
    {
     "name": "stdout",
     "output_type": "stream",
     "text": [
      "+-----+---------+-----+-------+-----+-----+-----+----+----+----+\n",
      "|carat|      cut|color|clarity|depth|table|price|   x|   y|   z|\n",
      "+-----+---------+-----+-------+-----+-----+-----+----+----+----+\n",
      "| 0.23|    Ideal|    E|    SI2| 61.5|   55|  326|3.95|3.98|2.43|\n",
      "| 0.21|  Premium|    E|    SI1| 59.8|   61|  326|3.89|3.84|2.31|\n",
      "| 0.23|     Good|    E|    VS1| 56.9|   65|  327|4.05|4.07|2.31|\n",
      "| 0.29|  Premium|    I|    VS2| 62.4|   58|  334| 4.2|4.23|2.63|\n",
      "| 0.31|     Good|    J|    SI2| 63.3|   58|  335|4.34|4.35|2.75|\n",
      "| 0.24|Very Good|    J|   VVS2| 62.8|   57|  336|3.94|3.96|2.48|\n",
      "| 0.24|Very Good|    I|   VVS1| 62.3|   57|  336|3.95|3.98|2.47|\n",
      "| 0.26|Very Good|    H|    SI1| 61.9|   55|  337|4.07|4.11|2.53|\n",
      "| 0.22|     Fair|    E|    VS2| 65.1|   61|  337|3.87|3.78|2.49|\n",
      "| 0.23|Very Good|    H|    VS1| 59.4|   61|  338|   4|4.05|2.39|\n",
      "|  0.3|     Good|    J|    SI1|   64|   55|  339|4.25|4.28|2.73|\n",
      "| 0.23|    Ideal|    J|    VS1| 62.8|   56|  340|3.93| 3.9|2.46|\n",
      "| 0.22|  Premium|    F|    SI1| 60.4|   61|  342|3.88|3.84|2.33|\n",
      "| 0.31|    Ideal|    J|    SI2| 62.2|   54|  344|4.35|4.37|2.71|\n",
      "|  0.2|  Premium|    E|    SI2| 60.2|   62|  345|3.79|3.75|2.27|\n",
      "| 0.32|  Premium|    E|     I1| 60.9|   58|  345|4.38|4.42|2.68|\n",
      "|  0.3|    Ideal|    I|    SI2|   62|   54|  348|4.31|4.34|2.68|\n",
      "|  0.3|     Good|    J|    SI1| 63.4|   54|  351|4.23|4.29| 2.7|\n",
      "|  0.3|     Good|    J|    SI1| 63.8|   56|  351|4.23|4.26|2.71|\n",
      "|  0.3|Very Good|    J|    SI1| 62.7|   59|  351|4.21|4.27|2.66|\n",
      "+-----+---------+-----+-------+-----+-----+-----+----+----+----+\n",
      "only showing top 20 rows\n",
      "\n"
     ]
    }
   ],
   "source": [
    "# Making QUeries\n",
    "sqlContext.sql('SELECT * FROM DiamondsTable').show()"
   ]
  },
  {
   "cell_type": "code",
   "execution_count": 98,
   "id": "japanese-brick",
   "metadata": {},
   "outputs": [
    {
     "data": {
      "text/plain": [
       "['__class__',\n",
       " '__delattr__',\n",
       " '__dict__',\n",
       " '__dir__',\n",
       " '__doc__',\n",
       " '__eq__',\n",
       " '__format__',\n",
       " '__ge__',\n",
       " '__getattribute__',\n",
       " '__gt__',\n",
       " '__hash__',\n",
       " '__init__',\n",
       " '__init_subclass__',\n",
       " '__le__',\n",
       " '__lt__',\n",
       " '__module__',\n",
       " '__ne__',\n",
       " '__new__',\n",
       " '__reduce__',\n",
       " '__reduce_ex__',\n",
       " '__repr__',\n",
       " '__setattr__',\n",
       " '__sizeof__',\n",
       " '__str__',\n",
       " '__subclasshook__',\n",
       " '__weakref__',\n",
       " '_conf',\n",
       " '_inferSchema',\n",
       " '_instantiatedContext',\n",
       " '_jsc',\n",
       " '_jsqlContext',\n",
       " '_jvm',\n",
       " '_sc',\n",
       " '_ssql_ctx',\n",
       " 'cacheTable',\n",
       " 'clearCache',\n",
       " 'createDataFrame',\n",
       " 'createExternalTable',\n",
       " 'dropTempTable',\n",
       " 'getConf',\n",
       " 'getOrCreate',\n",
       " 'newSession',\n",
       " 'range',\n",
       " 'read',\n",
       " 'readStream',\n",
       " 'registerDataFrameAsTable',\n",
       " 'registerFunction',\n",
       " 'registerJavaFunction',\n",
       " 'setConf',\n",
       " 'sparkSession',\n",
       " 'sql',\n",
       " 'streams',\n",
       " 'table',\n",
       " 'tableNames',\n",
       " 'tables',\n",
       " 'udf',\n",
       " 'uncacheTable']"
      ]
     },
     "execution_count": 98,
     "metadata": {},
     "output_type": "execute_result"
    }
   ],
   "source": [
    "# Can also use it to work with DataFrames\n",
    "dir(sqlContext)"
   ]
  },
  {
   "cell_type": "code",
   "execution_count": 99,
   "id": "copyrighted-calgary",
   "metadata": {},
   "outputs": [],
   "source": [
    "# Thanks For Watching\n",
    "# Jesus Saves @JCharisTech\n",
    "# Jesse E.Agbe(JCharis)\n",
    "# 2021"
   ]
  },
  {
   "cell_type": "code",
   "execution_count": null,
   "id": "unknown-leadership",
   "metadata": {},
   "outputs": [],
   "source": []
  }
 ],
 "metadata": {
  "kernelspec": {
   "display_name": "Python 3",
   "language": "python",
   "name": "python3"
  },
  "language_info": {
   "codemirror_mode": {
    "name": "ipython",
    "version": 3
   },
   "file_extension": ".py",
   "mimetype": "text/x-python",
   "name": "python",
   "nbconvert_exporter": "python",
   "pygments_lexer": "ipython3",
   "version": "3.8.6"
  }
 },
 "nbformat": 4,
 "nbformat_minor": 5
}
